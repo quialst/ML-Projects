{
 "cells": [
  {
   "cell_type": "code",
   "execution_count": 33,
   "id": "e9f8bb67-cbe4-4eb4-8536-0a52f427c533",
   "metadata": {},
   "outputs": [],
   "source": [
    "import torch\n",
    "import torch.nn as nn\n",
    "import torch.optim as optim\n",
    "from torch.utils.data import DataLoader, TensorDataset\n",
    "import numpy as np\n",
    "import math\n",
    "import matplotlib.pyplot as plt"
   ]
  },
  {
   "cell_type": "code",
   "execution_count": 34,
   "id": "dbb6e65c-e229-4f78-8e49-3b18c2903ed2",
   "metadata": {},
   "outputs": [
    {
     "name": "stdout",
     "output_type": "stream",
     "text": [
      "(623028, 30)\n",
      "[['Country' 'Age' 'Gender' ... 'Education_Level' 'Income_Level'\n",
      "  'Heart_Attack_Outcome']\n",
      " ['Germany' '39' 'Male' ... 'Tertiary' 'Low' 'Died']\n",
      " ['Egypt' '88' 'Male' ... 'None' 'Low' 'Died']\n",
      " ...\n",
      " ['Indonesia' '32' 'Female' ... 'Primary' 'Medium' 'Survived']\n",
      " ['Spain' '62' 'Male' ... 'Primary' 'Low' 'Survived']\n",
      " ['Italy' '89' 'Female' ... 'Secondary' 'Medium' 'Died']]\n"
     ]
    }
   ],
   "source": [
    "data = np.genfromtxt(\"heart_attack_predictions.csv\", delimiter=\",\", dtype=None,)\n",
    "print(data.shape)\n",
    "print(data)"
   ]
  },
  {
   "cell_type": "code",
   "execution_count": 35,
   "id": "de30864a-3e34-4d6d-a2b2-412dde489c69",
   "metadata": {},
   "outputs": [
    {
     "name": "stdout",
     "output_type": "stream",
     "text": [
      "['Country' 'Age' 'Gender' 'Cholesterol_Level' 'Blood_Pressure'\n",
      " 'Smoking_History' 'Alcohol_Consumption' 'Physical_Activity' 'Obesity'\n",
      " 'Diabetes' 'Family_History' 'Stress_Levels' 'Dietary_Habits'\n",
      " 'Heart_Attack_History' 'Chest_Pain' 'Exercise_Induced_Angina'\n",
      " 'Resting_ECG' 'Max_Heart_Rate_Achieved' 'Thalassemia' 'HDL_Cholesterol'\n",
      " 'LDL_Cholesterol' 'Triglycerides' 'Heart_Disease_Risk'\n",
      " 'Medication_Adherence' 'Urbanization_Level' 'Air_Pollution_Exposure'\n",
      " 'Access_To_Healthcare' 'Education_Level' 'Income_Level'\n",
      " 'Heart_Attack_Outcome']\n",
      "[['Germany' '39' 'Male' ... 'Tertiary' 'Low' 'Died']\n",
      " ['Egypt' '88' 'Male' ... 'None' 'Low' 'Died']\n",
      " ['Spain' '60' 'Female' ... 'Tertiary' 'Low' 'Survived']\n",
      " ...\n",
      " ['Indonesia' '32' 'Female' ... 'Primary' 'Medium' 'Survived']\n",
      " ['Spain' '62' 'Male' ... 'Primary' 'Low' 'Survived']\n",
      " ['Italy' '89' 'Female' ... 'Secondary' 'Medium' 'Died']]\n"
     ]
    }
   ],
   "source": [
    "headers=data[0]\n",
    "data=data[1:]\n",
    "print(headers)\n",
    "print(data)\n"
   ]
  },
  {
   "cell_type": "code",
   "execution_count": 36,
   "id": "cc9fa1e0-0a01-4b53-a822-044d5bb1025f",
   "metadata": {},
   "outputs": [],
   "source": [
    "data[:,2]=[0 if x=='Male' else 1 if x=='Female' else 2 for x in data[:,2]]\n",
    "data[:,5]=[0 if x=='Never' else 1 if x=='Former' else 2 if x=='Current' else 3 for x in data[:,5]]\n",
    "data[:,7]=[0 if x=='Sedentary' else 1 if x=='Moderate' else 2 if x=='Active' else 3 for x in data[:,7]]\n",
    "data[:,8]=[0 if x=='No' else 1 if x=='Yes' else 2 for x in data[:,8]]\n",
    "data[:,9]=[0 if x=='No' else 1 if x=='Yes' else 2 for x in data[:,9]]\n",
    "data[:,10]=[0 if x=='No' else 1 if x=='Yes' else 2 for x in data[:,10]]\n",
    "data[:,12]=[0 if x=='Unhealthy' else 1 if x=='Moderate' else 2 if x=='Healthy' else 3 for x in data[:,12]]\n",
    "data[:,13]=[0 if x=='No' else 1 if x=='Yes' else 2 for x in data[:,13]]\n",
    "data[:,14]=[0 if x=='No' else 1 if x=='Yes' else 2 for x in data[:,14]]\n",
    "data[:,15]=[0 if x=='No' else 1 if x=='Yes' else 2 for x in data[:,15]]\n",
    "data[:,16]=[0 if x=='Normal' else 1 if x=='Abnormal' else 2 for x in data[:,16]]\n",
    "data[:,18]=[0 if x=='Normal' else 1 if x=='Reversible Defect' else 2 if x=='Fixed Defect' else 3 for x in data[:,18]]\n",
    "data[:,23]=[0 if x=='No' else 1 if x=='Yes' else 2 for x in data[:,23]]\n",
    "data[:,26]=[0 if x=='Poor' else 1 if x=='Average' else 2 if x=='Good' else 3 for x in data[:,26]]"
   ]
  },
  {
   "cell_type": "code",
   "execution_count": 37,
   "id": "fb360d0e-bd8d-4191-aa9d-48e3251468df",
   "metadata": {},
   "outputs": [],
   "source": [
    "inputs=np.delete(data,[0,22,24,25,27,28,29],axis=1)\n",
    "inputs=inputs.astype(np.float32)\n",
    "inputs=torch.from_numpy(inputs)\n",
    "#inputs=torch.transpose(inputs, 0, 1)\n",
    "\n",
    "\n",
    "target=data[:,-1]\n",
    "target=np.array([[0,1] if x=='Survived' else [1,0] if x=='Died' else 2 for x in target],dtype='float32')\n",
    "target=torch.from_numpy(target)\n",
    "#target=torch.transpose(target, 0, 1)"
   ]
  },
  {
   "cell_type": "code",
   "execution_count": 38,
   "id": "548d16d3-0842-476b-b90b-02faefc96a2b",
   "metadata": {},
   "outputs": [
    {
     "name": "stdout",
     "output_type": "stream",
     "text": [
      "torch.Size([623027, 23])\n",
      "torch.Size([623027, 2])\n"
     ]
    }
   ],
   "source": [
    "print(inputs.shape)\n",
    "print(target.shape)"
   ]
  },
  {
   "cell_type": "code",
   "execution_count": 110,
   "id": "a5ec203e-d1ec-4167-a99a-e5f5263d5c49",
   "metadata": {},
   "outputs": [],
   "source": [
    "class SimpleNN(nn.Module):\n",
    "    def __init__(self, input_size, hidden_size, output_size):\n",
    "        super(SimpleNN, self).__init__()\n",
    "        self.fc1 = nn.Linear(input_size, hidden_size)\n",
    "        self.relu1 = nn.ReLU()\n",
    "        self.fc2 = nn.Linear(hidden_size, hidden_size)\n",
    "        self.relu2 = nn.ReLU()\n",
    "        # self.fc3 = nn.Linear(hidden_size, hidden_size)\n",
    "        # self.relu3 = nn.ReLU()\n",
    "        self.fc4 = nn.Linear(hidden_size, output_size)\n",
    "        # self.sigmoid = nn.Sigmoid()\n",
    "        self.softmax = nn.Softmax(dim=-1)\n",
    "    \n",
    "    def forward(self, x):\n",
    "        x = self.fc1(x)\n",
    "        x = self.relu1(x)\n",
    "        x = self.fc2(x)\n",
    "        x = self.relu2(x)\n",
    "        # x = self.fc3(x)\n",
    "        # x = self.relu3(x)\n",
    "        x = self.fc4(x)\n",
    "        # x = self.sigmoid(x)\n",
    "        x = self.softmax(x)\n",
    "        return x"
   ]
  },
  {
   "cell_type": "code",
   "execution_count": 111,
   "id": "f34d09d0-63c1-4496-ad45-c2e2176dc752",
   "metadata": {},
   "outputs": [],
   "source": [
    "input_size = 23\n",
    "hidden_size = 20\n",
    "output_size = 2\n",
    "batch_size=4000\n",
    "model = SimpleNN(input_size, hidden_size, output_size)\n",
    "dataset = TensorDataset(inputs[:-4000],target[:-4000])\n",
    "dataloader = DataLoader(dataset, batch_size=batch_size, shuffle=True)\n",
    "testdata=TensorDataset(inputs[-4000:],target[-4000:])"
   ]
  },
  {
   "cell_type": "code",
   "execution_count": 112,
   "id": "e45e8cfb-ea72-458d-b369-d549f54894a2",
   "metadata": {},
   "outputs": [],
   "source": [
    "criterion = nn.MSELoss()\n",
    "optimizer = optim.SGD(model.parameters(), lr=0.01)"
   ]
  },
  {
   "cell_type": "code",
   "execution_count": 113,
   "id": "fe3e7015-68a8-4a3a-accb-470cc976a291",
   "metadata": {},
   "outputs": [
    {
     "data": {
      "image/png": "[encoded data removed]",
      "text/plain": [
       "<Figure size 640x480 with 1 Axes>"
      ]
     },
     "metadata": {},
     "output_type": "display_data"
    },
    {
     "name": "stdout",
     "output_type": "stream",
     "text": [
      "Loss:  0.2502348688340956\n"
     ]
    }
   ],
   "source": [
    "# Forward pass\n",
    "epochs = 12\n",
    "lossdata=[]\n",
    "for epoch in range(epochs):\n",
    "    epoch_loss=0\n",
    "    for batch_x, batch_y in dataloader:\n",
    "        outputs = model(batch_x)\n",
    "        loss = criterion(outputs, batch_y)\n",
    "        epoch_loss += loss.item()\n",
    "        \n",
    "        # Backward pass and optimization\n",
    "        optimizer.zero_grad()\n",
    "        loss.backward()\n",
    "        optimizer.step()\n",
    "    \n",
    "    avg_loss = epoch_loss / len(dataloader)\n",
    "    lossdata.append([epoch+1,avg_loss])\n",
    "\n",
    "lossdata=np.array(lossdata)\n",
    "lossdata=np.transpose(lossdata)\n",
    "x=lossdata[0,:]\n",
    "y=lossdata[1,:]\n",
    "plt.plot(x,y, marker='o')\n",
    "plt.xlabel('Epoch')\n",
    "plt.ylabel('Loss')\n",
    "plt.title('Loss by Epoch')\n",
    "plt.show()\n",
    "print('Loss: ',y[-1])\n",
    "\n",
    "    \n"
   ]
  },
  {
   "cell_type": "code",
   "execution_count": 116,
   "id": "e571c50f-5ddc-4ac8-af56-3ae28f4f906f",
   "metadata": {},
   "outputs": [
    {
     "name": "stdout",
     "output_type": "stream",
     "text": [
      "0.52175\n"
     ]
    }
   ],
   "source": [
    "correct=0\n",
    "for i in testdata:\n",
    "    output=[0. if x<0.5 else 1.0 for x in model(i[0])]\n",
    "    # print(output)\n",
    "    # print(i[1].tolist())\n",
    "    if i[1].tolist()==output:\n",
    "        correct+=1\n",
    "print(correct/4000)"
   ]
  },
  {
   "cell_type": "code",
   "execution_count": null,
   "id": "b4daa9d2-3a19-4bf0-bed3-8d423e5a6b34",
   "metadata": {},
   "outputs": [],
   "source": []
  }
 ],
 "metadata": {
  "kernelspec": {
   "display_name": "Python 3 (ipykernel)",
   "language": "python",
   "name": "python3"
  },
  "language_info": {
   "codemirror_mode": {
    "name": "ipython",
    "version": 3
   },
   "file_extension": ".py",
   "mimetype": "text/x-python",
   "name": "python",
   "nbconvert_exporter": "python",
   "pygments_lexer": "ipython3",
   "version": "3.12.8"
  }
 },
 "nbformat": 4,
 "nbformat_minor": 5
}
