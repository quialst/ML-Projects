{
 "cells": [
  {
   "cell_type": "code",
   "execution_count": 3,
   "id": "e9f8bb67-cbe4-4eb4-8536-0a52f427c533",
   "metadata": {},
   "outputs": [],
   "source": [
    "import torch\n",
    "import torch.nn as nn\n",
    "import torch.optim as optim\n",
    "import numpy as np"
   ]
  },
  {
   "cell_type": "code",
   "execution_count": 15,
   "id": "dbb6e65c-e229-4f78-8e49-3b18c2903ed2",
   "metadata": {},
   "outputs": [
    {
     "name": "stdout",
     "output_type": "stream",
     "text": [
      "(623028, 30)\n",
      "[['Country' 'Age' 'Gender' ... 'Education_Level' 'Income_Level'\n",
      "  'Heart_Attack_Outcome']\n",
      " ['Germany' '39' 'Male' ... 'Tertiary' 'Low' 'Died']\n",
      " ['Egypt' '88' 'Male' ... 'None' 'Low' 'Died']\n",
      " ...\n",
      " ['Indonesia' '32' 'Female' ... 'Primary' 'Medium' 'Survived']\n",
      " ['Spain' '62' 'Male' ... 'Primary' 'Low' 'Survived']\n",
      " ['Italy' '89' 'Female' ... 'Secondary' 'Medium' 'Died']]\n"
     ]
    }
   ],
   "source": [
    "data = np.genfromtxt(\"heart_attack_predictions.csv\", delimiter=\",\", dtype=None,)\n",
    "print(data.shape)\n",
    "print(data)"
   ]
  },
  {
   "cell_type": "code",
   "execution_count": 16,
   "id": "de30864a-3e34-4d6d-a2b2-412dde489c69",
   "metadata": {},
   "outputs": [
    {
     "name": "stdout",
     "output_type": "stream",
     "text": [
      "['Country' 'Age' 'Gender' 'Cholesterol_Level' 'Blood_Pressure'\n",
      " 'Smoking_History' 'Alcohol_Consumption' 'Physical_Activity' 'Obesity'\n",
      " 'Diabetes' 'Family_History' 'Stress_Levels' 'Dietary_Habits'\n",
      " 'Heart_Attack_History' 'Chest_Pain' 'Exercise_Induced_Angina'\n",
      " 'Resting_ECG' 'Max_Heart_Rate_Achieved' 'Thalassemia' 'HDL_Cholesterol'\n",
      " 'LDL_Cholesterol' 'Triglycerides' 'Heart_Disease_Risk'\n",
      " 'Medication_Adherence' 'Urbanization_Level' 'Air_Pollution_Exposure'\n",
      " 'Access_To_Healthcare' 'Education_Level' 'Income_Level'\n",
      " 'Heart_Attack_Outcome']\n",
      "[['Germany' '39' 'Male' ... 'Tertiary' 'Low' 'Died']\n",
      " ['Egypt' '88' 'Male' ... 'None' 'Low' 'Died']\n",
      " ['Spain' '60' 'Female' ... 'Tertiary' 'Low' 'Survived']\n",
      " ...\n",
      " ['Indonesia' '32' 'Female' ... 'Primary' 'Medium' 'Survived']\n",
      " ['Spain' '62' 'Male' ... 'Primary' 'Low' 'Survived']\n",
      " ['Italy' '89' 'Female' ... 'Secondary' 'Medium' 'Died']]\n"
     ]
    }
   ],
   "source": [
    "headers=data[0]\n",
    "data=data[1:]\n",
    "print(headers)\n",
    "print(data)\n"
   ]
  },
  {
   "cell_type": "code",
   "execution_count": 17,
   "id": "cc9fa1e0-0a01-4b53-a822-044d5bb1025f",
   "metadata": {},
   "outputs": [],
   "source": [
    "data[:,2]=[0 if x=='Male' else 1 if x=='Female' else 2 for x in data[:,2]]\n",
    "data[:,5]=[0 if x=='Never' else 1 if x=='Former' else 2 if x=='Current' else 3 for x in data[:,5]]\n",
    "data[:,7]=[0 if x=='Sedentary' else 1 if x=='Moderate' else 2 if x=='Active' else 3 for x in data[:,7]]\n",
    "data[:,8]=[0 if x=='No' else 1 if x=='Yes' else 2 for x in data[:,8]]\n",
    "data[:,9]=[0 if x=='No' else 1 if x=='Yes' else 2 for x in data[:,9]]\n",
    "data[:,10]=[0 if x=='No' else 1 if x=='Yes' else 2 for x in data[:,10]]\n",
    "data[:,12]=[0 if x=='Unhealthy' else 1 if x=='Moderate' else 2 if x=='Healthy' else 3 for x in data[:,12]]\n",
    "data[:,13]=[0 if x=='No' else 1 if x=='Yes' else 2 for x in data[:,13]]\n",
    "data[:,14]=[0 if x=='No' else 1 if x=='Yes' else 2 for x in data[:,14]]\n",
    "data[:,15]=[0 if x=='No' else 1 if x=='Yes' else 2 for x in data[:,15]]\n",
    "data[:,16]=[0 if x=='Normal' else 1 if x=='Abnormal' else 2 for x in data[:,16]]\n",
    "data[:,18]=[0 if x=='Normal' else 1 if x=='Reversible Defect' else 2 if x=='Fixed Defect' else 3 for x in data[:,18]]\n",
    "data[:,23]=[0 if x=='No' else 1 if x=='Yes' else 2 for x in data[:,23]]\n",
    "data[:,26]=[0 if x=='Poor' else 1 if x=='Average' else 2 if x=='Good' else 3 for x in data[:,26]]"
   ]
  },
  {
   "cell_type": "code",
   "execution_count": 24,
   "id": "fb360d0e-bd8d-4191-aa9d-48e3251468df",
   "metadata": {},
   "outputs": [
    {
     "data": {
      "text/plain": [
       "torch.Size([623027, 23])"
      ]
     },
     "execution_count": 24,
     "metadata": {},
     "output_type": "execute_result"
    }
   ],
   "source": [
    "inputs=np.delete(data,[0,22,24,25,27,28,29],axis=1)\n",
    "inputs=inputs.astype(np.float32)\n",
    "inputs=torch.from_numpy(inputs)\n",
    "inputs.shape"
   ]
  },
  {
   "cell_type": "code",
   "execution_count": 22,
   "id": "a5ec203e-d1ec-4167-a99a-e5f5263d5c49",
   "metadata": {},
   "outputs": [],
   "source": [
    "class SimpleNN(nn.Module):\n",
    "    def __init__(self, input_size, hidden_size, output_size):\n",
    "        super(SimpleNN, self).__init__()\n",
    "        self.fc1 = nn.Linear(input_size, hidden_size)\n",
    "        self.relu = nn.ReLU()\n",
    "        self.fc2 = nn.Linear(hidden_size, output_size)\n",
    "    \n",
    "    def forward(self, x):\n",
    "        x = self.fc1(x)\n",
    "        x = self.relu(x)\n",
    "        x = self.fc2(x)\n",
    "        return x"
   ]
  },
  {
   "cell_type": "code",
   "execution_count": 25,
   "id": "f34d09d0-63c1-4496-ad45-c2e2176dc752",
   "metadata": {},
   "outputs": [],
   "source": [
    "input_size = 23\n",
    "hidden_size = 15\n",
    "output_size = 3\n",
    "model = SimpleNN(input_size, hidden_size, output_size)"
   ]
  },
  {
   "cell_type": "code",
   "execution_count": 26,
   "id": "e45e8cfb-ea72-458d-b369-d549f54894a2",
   "metadata": {},
   "outputs": [],
   "source": [
    "criterion = nn.MSELoss()\n",
    "optimizer = optim.SGD(model.parameters(), lr=0.01)"
   ]
  },
  {
   "cell_type": "code",
   "execution_count": null,
   "id": "fe3e7015-68a8-4a3a-accb-470cc976a291",
   "metadata": {},
   "outputs": [],
   "source": [
    "# Dummy input and target\n",
    "x = torch.randn(5, input_size)\n",
    "y = torch.randn(5, output_size)\n",
    "\n",
    "# Forward pass\n",
    "outputs = model(x)\n",
    "loss = criterion(outputs, y)\n",
    "\n",
    "# Backward pass and optimization\n",
    "optimizer.zero_grad()\n",
    "loss.backward()\n",
    "optimizer.step()\n",
    "\n",
    "print(\"Loss:\", loss.item())\n"
   ]
  }
 ],
 "metadata": {
  "kernelspec": {
   "display_name": "Python 3 (ipykernel)",
   "language": "python",
   "name": "python3"
  },
  "language_info": {
   "codemirror_mode": {
    "name": "ipython",
    "version": 3
   },
   "file_extension": ".py",
   "mimetype": "text/x-python",
   "name": "python",
   "nbconvert_exporter": "python",
   "pygments_lexer": "ipython3",
   "version": "3.12.8"
  }
 },
 "nbformat": 4,
 "nbformat_minor": 5
}
